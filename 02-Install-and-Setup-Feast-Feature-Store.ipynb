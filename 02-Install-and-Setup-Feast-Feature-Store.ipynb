{
 "cells": [
  {
   "cell_type": "markdown",
   "id": "974cd606",
   "metadata": {},
   "source": [
    "## Step1: Install Feast\n",
    "\n",
    "Install Feast on your local machine. Consider running following commands in case you are running into dependency issues while installing Feast:\n",
    "<div class=\"alert alert-block alert-warning\">\n",
    "    \n",
    "```shell\n",
    "!pip install --upgrade PyYAML\n",
    "!python3 -m pip install --upgrade pip\n",
    "!pip install --ignore-installed PyYAML\n",
    "```\n",
    "</div>\n",
    "\n"
   ]
  },
  {
   "cell_type": "code",
   "execution_count": 1,
   "id": "dc3f6dfa",
   "metadata": {},
   "outputs": [
    {
     "name": "stdout",
     "output_type": "stream",
     "text": [
      "/Users/rsaxena/Documents/GitHub/sfguide-getting-started-snowpark-python-feast\r\n"
     ]
    }
   ],
   "source": [
    "!pwd\n",
    "# Your current working directory should be .../sfguide-getting-started-snowpark-python-feast"
   ]
  },
  {
   "cell_type": "code",
   "execution_count": 2,
   "id": "5579a1b9",
   "metadata": {},
   "outputs": [],
   "source": [
    "%%sh\n",
    "pip install 'feast[snowflake]' -U -q\n",
    "pip install Pygments -q"
   ]
  },
  {
   "cell_type": "code",
   "execution_count": 3,
   "id": "620c06d7",
   "metadata": {},
   "outputs": [
    {
     "name": "stdout",
     "output_type": "stream",
     "text": [
      "Name: feast\r\n",
      "Version: 0.28.0\r\n",
      "Summary: Python SDK for Feast\r\n",
      "Home-page: https://github.com/feast-dev/feast\r\n",
      "Author: Feast\r\n",
      "Author-email: \r\n",
      "License: Apache\r\n",
      "Location: /Users/rsaxena/opt/anaconda3/envs/getting_started_snowpark_python/lib/python3.8/site-packages\r\n",
      "Requires: bowler, click, colorama, dask, dill, fastapi, fastavro, google-api-core, googleapis-common-protos, grpcio, grpcio-reflection, Jinja2, jsonschema, mmh3, numpy, pandas, pandavro, proto-plus, protobuf, pyarrow, pydantic, pygments, PyYAML, SQLAlchemy, tabulate, tenacity, toml, tqdm, typeguard, uvicorn\r\n",
      "Required-by: \r\n"
     ]
    }
   ],
   "source": [
    "#Check if Feast is properly installed on your machine\n",
    "!pip show feast"
   ]
  },
  {
   "cell_type": "markdown",
   "id": "5a79ee83",
   "metadata": {},
   "source": [
    "## Step2: Create Feature Repository\n",
    "A feature repository is a directory that contains the configuration of the feature store and individual features. This configuration is written as code (Python/YAML) and it's highly recommended that teams track it centrally using git."
   ]
  },
  {
   "cell_type": "markdown",
   "id": "76cdafbe",
   "metadata": {},
   "source": [
    "### 2.a Open Terminal window to run following commands\n",
    "Open terminal and run following commands in the **terminal window** to setup feature repository\n",
    "<div class=\"alert alert-block alert-warning\">\n",
    "\n",
    "1. CD to the current working directory .../sfguide-getting-started-snowpark-python-feast/\n",
    "2. Run following command on the terminal \n",
    "```shell\n",
    "feast init -t snowflake customer_repo\n",
    "```\n",
    "3. Fill in Snowflake account details as prompted:\n",
    "\n",
    "```shell\n",
    "Snowflake Deployment URL: ...\n",
    "Snowflake User Name: ...\n",
    "Snowflake Password: ...\n",
    "Snowflake Role Name: ACCOUNTADMIN\n",
    "Snowflake Warehouse Name: LAB_S_WH\n",
    "Snowflake Database Name: FEAST_SF\n",
    "Should I upload example data to Snowflake (overwriting \"customer_repo_feast_driver_hourly_stats\" table)? [Y/n]: n\n",
    "```\n",
    "\n",
    "Feast repository should be successfully created with this message: \n",
    "```shell\n",
    "Creating a new Feast repository in .../sfguide-getting-started-snowpark-python-feast/customer-churn-prediction/customer_repo\n",
    "```\n",
    "</div>"
   ]
  },
  {
   "cell_type": "code",
   "execution_count": 4,
   "id": "23939ada",
   "metadata": {},
   "outputs": [
    {
     "name": "stdout",
     "output_type": "stream",
     "text": [
      "/Users/rsaxena/Documents/GitHub/sfguide-getting-started-snowpark-python-feast\r\n"
     ]
    }
   ],
   "source": [
    "!pwd\n",
    "# your current directory should be .../sfguide-getting-started-snowpark-python-feast"
   ]
  },
  {
   "cell_type": "markdown",
   "id": "fd01e148",
   "metadata": {},
   "source": [
    "Next, we will remove the sample data and quickstart files created by feast init command to avoid any confusion. You may also chose to create a .feastignore file to exclude the sample .py file."
   ]
  },
  {
   "cell_type": "code",
   "execution_count": 5,
   "id": "91ce70ee",
   "metadata": {},
   "outputs": [],
   "source": [
    "%%sh\n",
    "rm -r customer_repo/feature_repo/data\n",
    "rm customer_repo/feature_repo/driver_repo.py \n",
    "rm customer_repo/README.md\n",
    "rm customer_repo/test_workflow.py "
   ]
  },
  {
   "cell_type": "markdown",
   "id": "67649ec9",
   "metadata": {},
   "source": [
    "### 2.b Update feature_store.yaml file \n",
    "Update feature_store.yaml file located in .../sfguide-getting-started-snowpark-python-feast folder location with your Snowflake account details. The file should be in the root directory. Please note that we are using built-in sqllite database as online feature store. You could update the file and provide any other supported database as a target database for online feature store.\n",
    "\n",
    "Once the file is updated, copy the provided .py and updated .yaml file using the commands below"
   ]
  },
  {
   "cell_type": "code",
   "execution_count": 6,
   "id": "71aefaea",
   "metadata": {},
   "outputs": [],
   "source": [
    "# Copy the feature repository file provided as part of this guide to feature_repo folder\n",
    "%cp cust_repo.py customer_repo/feature_repo"
   ]
  },
  {
   "cell_type": "markdown",
   "id": "6fc3c454",
   "metadata": {},
   "source": [
    "### Review feature_store.yaml created during feast init process\n",
    "Notice that Snowflake is used as the processing engine i.e. push down processing for creation of features, and Snowflake is used as both online as well as offline feature store."
   ]
  },
  {
   "cell_type": "code",
   "execution_count": 7,
   "id": "cfe9e62c",
   "metadata": {},
   "outputs": [
    {
     "name": "stdout",
     "output_type": "stream",
     "text": [
      "/Users/rsaxena/Documents/GitHub/sfguide-getting-started-snowpark-python-feast/customer_repo/feature_repo\n"
     ]
    }
   ],
   "source": [
    "# CD to feature_repo folder\n",
    "%cd customer_repo/feature_repo"
   ]
  },
  {
   "cell_type": "code",
   "execution_count": null,
   "id": "167647b8",
   "metadata": {},
   "outputs": [],
   "source": [
    "!pygmentize feature_store.yaml"
   ]
  },
  {
   "cell_type": "markdown",
   "id": "3533878b",
   "metadata": {},
   "source": [
    "### Review cust_repo.py\n",
    "This is the **core configuration** file where we have defined feature views, sources and feature service for the feature store setup"
   ]
  },
  {
   "cell_type": "code",
   "execution_count": 10,
   "id": "de8b705c",
   "metadata": {},
   "outputs": [
    {
     "name": "stdout",
     "output_type": "stream",
     "text": [
      "\u001b[34mfrom\u001b[39;49;00m \u001b[04m\u001b[36mdatetime\u001b[39;49;00m \u001b[34mimport\u001b[39;49;00m timedelta\u001b[37m\u001b[39;49;00m\n",
      "\u001b[37m\u001b[39;49;00m\n",
      "\u001b[34mimport\u001b[39;49;00m \u001b[04m\u001b[36mpandas\u001b[39;49;00m \u001b[34mas\u001b[39;49;00m \u001b[04m\u001b[36mpd\u001b[39;49;00m\u001b[37m\u001b[39;49;00m\n",
      "\u001b[34mimport\u001b[39;49;00m \u001b[04m\u001b[36myaml\u001b[39;49;00m\u001b[37m\u001b[39;49;00m\n",
      "\u001b[37m\u001b[39;49;00m\n",
      "\u001b[34mfrom\u001b[39;49;00m \u001b[04m\u001b[36mfeast\u001b[39;49;00m \u001b[34mimport\u001b[39;49;00m (\u001b[37m\u001b[39;49;00m\n",
      "    Entity,\u001b[37m\u001b[39;49;00m\n",
      "    FeatureService,\u001b[37m\u001b[39;49;00m\n",
      "    FeatureView,\u001b[37m\u001b[39;49;00m\n",
      "    Field,\u001b[37m\u001b[39;49;00m\n",
      "    PushSource,\u001b[37m\u001b[39;49;00m\n",
      "    RequestSource,\u001b[37m\u001b[39;49;00m\n",
      "    SnowflakeSource,\u001b[37m\u001b[39;49;00m\n",
      ")\u001b[37m\u001b[39;49;00m\n",
      "\u001b[37m\u001b[39;49;00m\n",
      "\u001b[34mfrom\u001b[39;49;00m \u001b[04m\u001b[36mfeast\u001b[39;49;00m\u001b[04m\u001b[36m.\u001b[39;49;00m\u001b[04m\u001b[36mtypes\u001b[39;49;00m \u001b[34mimport\u001b[39;49;00m Float64, Int64, Bool, String\u001b[37m\u001b[39;49;00m\n",
      "\u001b[37m\u001b[39;49;00m\n",
      "\u001b[37m# Define an entity for the customer. You can think of an entity as a primary key used to\u001b[39;49;00m\u001b[37m\u001b[39;49;00m\n",
      "\u001b[37m# fetch features.\u001b[39;49;00m\u001b[37m\u001b[39;49;00m\n",
      "customer = Entity(name=\u001b[33m\"\u001b[39;49;00m\u001b[33mcustomer\u001b[39;49;00m\u001b[33m\"\u001b[39;49;00m, join_keys=[\u001b[33m\"\u001b[39;49;00m\u001b[33mCUSTOMERID\u001b[39;49;00m\u001b[33m\"\u001b[39;49;00m])\u001b[37m\u001b[39;49;00m\n",
      "\u001b[37m\u001b[39;49;00m\n",
      "\u001b[37m# Defines a data source from which feature values can be retrieved. Sources are queried when building training\u001b[39;49;00m\u001b[37m\u001b[39;49;00m\n",
      "\u001b[37m# datasets or materializing features into an online store.\u001b[39;49;00m\u001b[37m\u001b[39;49;00m\n",
      "project_name = yaml.safe_load(\u001b[36mopen\u001b[39;49;00m(\u001b[33m\"\u001b[39;49;00m\u001b[33mfeature_store.yaml\u001b[39;49;00m\u001b[33m\"\u001b[39;49;00m))[\u001b[33m\"\u001b[39;49;00m\u001b[33mproject\u001b[39;49;00m\u001b[33m\"\u001b[39;49;00m]\u001b[37m\u001b[39;49;00m\n",
      "\u001b[37m\u001b[39;49;00m\n",
      "cust_demographics_source = SnowflakeSource(\u001b[37m\u001b[39;49;00m\n",
      "    \u001b[37m# The Snowflake table where features can be found\u001b[39;49;00m\u001b[37m\u001b[39;49;00m\n",
      "    database=yaml.safe_load(\u001b[36mopen\u001b[39;49;00m(\u001b[33m\"\u001b[39;49;00m\u001b[33mfeature_store.yaml\u001b[39;49;00m\u001b[33m\"\u001b[39;49;00m))[\u001b[33m\"\u001b[39;49;00m\u001b[33moffline_store\u001b[39;49;00m\u001b[33m\"\u001b[39;49;00m][\u001b[33m\"\u001b[39;49;00m\u001b[33mdatabase\u001b[39;49;00m\u001b[33m\"\u001b[39;49;00m],\u001b[37m\u001b[39;49;00m\n",
      "    table=\u001b[33mf\u001b[39;49;00m\u001b[33m\"\u001b[39;49;00m\u001b[33mDEMOGRAPHICS\u001b[39;49;00m\u001b[33m\"\u001b[39;49;00m,\u001b[37m\u001b[39;49;00m\n",
      "    \u001b[37m# The event timestamp is used for point-in-time joins and for ensuring only\u001b[39;49;00m\u001b[37m\u001b[39;49;00m\n",
      "    \u001b[37m# features within the TTL are returned\u001b[39;49;00m\u001b[37m\u001b[39;49;00m\n",
      "    timestamp_field=\u001b[33m\"\u001b[39;49;00m\u001b[33mEVENT_TIMESTAMP\u001b[39;49;00m\u001b[33m\"\u001b[39;49;00m,\u001b[37m\u001b[39;49;00m\n",
      "    \u001b[37m# The (optional) created timestamp is used to ensure there are no duplicate\u001b[39;49;00m\u001b[37m\u001b[39;49;00m\n",
      "    \u001b[37m# feature rows in the offline store or when building training datasets\u001b[39;49;00m\u001b[37m\u001b[39;49;00m\n",
      "    created_timestamp_column=\u001b[33m\"\u001b[39;49;00m\u001b[33mCREATED\u001b[39;49;00m\u001b[33m\"\u001b[39;49;00m,\u001b[37m\u001b[39;49;00m\n",
      ")\u001b[37m\u001b[39;49;00m\n",
      "\u001b[37m\u001b[39;49;00m\n",
      "\u001b[37m# Feature views are a grouping based on how features are stored in either the\u001b[39;49;00m\u001b[37m\u001b[39;49;00m\n",
      "\u001b[37m# online or offline store.\u001b[39;49;00m\u001b[37m\u001b[39;49;00m\n",
      "demographics_fv = FeatureView(\u001b[37m\u001b[39;49;00m\n",
      "    \u001b[37m# The unique name of this feature view. Two feature views in a single\u001b[39;49;00m\u001b[37m\u001b[39;49;00m\n",
      "    \u001b[37m# project cannot have the same name\u001b[39;49;00m\u001b[37m\u001b[39;49;00m\n",
      "    name=\u001b[33m\"\u001b[39;49;00m\u001b[33mcust_demographics\u001b[39;49;00m\u001b[33m\"\u001b[39;49;00m,\u001b[37m\u001b[39;49;00m\n",
      "    \u001b[37m# The list of entities specifies the keys required for joining or looking\u001b[39;49;00m\u001b[37m\u001b[39;49;00m\n",
      "    \u001b[37m# up features from this feature view. The reference provided in this field\u001b[39;49;00m\u001b[37m\u001b[39;49;00m\n",
      "    \u001b[37m# correspond to the name of a defined entity (or entities)\u001b[39;49;00m\u001b[37m\u001b[39;49;00m\n",
      "    entities=[customer],\u001b[37m\u001b[39;49;00m\n",
      "    \u001b[37m# The timedelta is the maximum age that each feature value may have\u001b[39;49;00m\u001b[37m\u001b[39;49;00m\n",
      "    \u001b[37m# relative to its lookup time. For historical features (used in training),\u001b[39;49;00m\u001b[37m\u001b[39;49;00m\n",
      "    \u001b[37m# TTL is relative to each timestamp provided in the entity dataframe.\u001b[39;49;00m\u001b[37m\u001b[39;49;00m\n",
      "    \u001b[37m# TTL also allows for eviction of keys from online stores and limits the\u001b[39;49;00m\u001b[37m\u001b[39;49;00m\n",
      "    \u001b[37m# amount of historical scanning required for historical feature values\u001b[39;49;00m\u001b[37m\u001b[39;49;00m\n",
      "    \u001b[37m# during retrieval\u001b[39;49;00m\u001b[37m\u001b[39;49;00m\n",
      "    ttl=timedelta(weeks=\u001b[34m52\u001b[39;49;00m * \u001b[34m10\u001b[39;49;00m),  \u001b[37m# Set to be very long for example purposes only\u001b[39;49;00m\u001b[37m\u001b[39;49;00m\n",
      "    \u001b[37m# The list of features defined below act as a schema to both define features\u001b[39;49;00m\u001b[37m\u001b[39;49;00m\n",
      "    \u001b[37m# for both materialization of features into a store, and are used as references\u001b[39;49;00m\u001b[37m\u001b[39;49;00m\n",
      "    \u001b[37m# during retrieval for building a training dataset or serving features\u001b[39;49;00m\u001b[37m\u001b[39;49;00m\n",
      "    schema=[\u001b[37m\u001b[39;49;00m\n",
      "        Field(name=\u001b[33m\"\u001b[39;49;00m\u001b[33mGENDER\u001b[39;49;00m\u001b[33m\"\u001b[39;49;00m, dtype=String),\u001b[37m\u001b[39;49;00m\n",
      "        Field(name=\u001b[33m\"\u001b[39;49;00m\u001b[33mSENIORCITIZEN\u001b[39;49;00m\u001b[33m\"\u001b[39;49;00m, dtype=Bool),\u001b[37m\u001b[39;49;00m\n",
      "        Field(name=\u001b[33m\"\u001b[39;49;00m\u001b[33mPARTNER\u001b[39;49;00m\u001b[33m\"\u001b[39;49;00m, dtype=Bool),\u001b[37m\u001b[39;49;00m\n",
      "        Field(name=\u001b[33m\"\u001b[39;49;00m\u001b[33mDEPENDENTS\u001b[39;49;00m\u001b[33m\"\u001b[39;49;00m, dtype=Bool)\u001b[37m\u001b[39;49;00m\n",
      "    ],\u001b[37m\u001b[39;49;00m\n",
      "    source=cust_demographics_source,\u001b[37m\u001b[39;49;00m\n",
      "    \u001b[37m# Tags are user defined key/value pairs that are attached to each\u001b[39;49;00m\u001b[37m\u001b[39;49;00m\n",
      "    \u001b[37m# feature view\u001b[39;49;00m\u001b[37m\u001b[39;49;00m\n",
      "    tags={\u001b[33m\"\u001b[39;49;00m\u001b[33msource\u001b[39;49;00m\u001b[33m\"\u001b[39;49;00m: \u001b[33m\"\u001b[39;49;00m\u001b[33mcustomer_demographics\u001b[39;49;00m\u001b[33m\"\u001b[39;49;00m},\u001b[37m\u001b[39;49;00m\n",
      ")\u001b[37m\u001b[39;49;00m\n",
      "\u001b[37m\u001b[39;49;00m\n",
      "cust_services_source = SnowflakeSource(\u001b[37m\u001b[39;49;00m\n",
      "    database=yaml.safe_load(\u001b[36mopen\u001b[39;49;00m(\u001b[33m\"\u001b[39;49;00m\u001b[33mfeature_store.yaml\u001b[39;49;00m\u001b[33m\"\u001b[39;49;00m))[\u001b[33m\"\u001b[39;49;00m\u001b[33moffline_store\u001b[39;49;00m\u001b[33m\"\u001b[39;49;00m][\u001b[33m\"\u001b[39;49;00m\u001b[33mdatabase\u001b[39;49;00m\u001b[33m\"\u001b[39;49;00m],\u001b[37m\u001b[39;49;00m\n",
      "    table=\u001b[33mf\u001b[39;49;00m\u001b[33m\"\u001b[39;49;00m\u001b[33mSERVICES\u001b[39;49;00m\u001b[33m\"\u001b[39;49;00m,\u001b[37m\u001b[39;49;00m\n",
      "    timestamp_field=\u001b[33m\"\u001b[39;49;00m\u001b[33mEVENT_TIMESTAMP\u001b[39;49;00m\u001b[33m\"\u001b[39;49;00m,\u001b[37m\u001b[39;49;00m\n",
      "    created_timestamp_column=\u001b[33m\"\u001b[39;49;00m\u001b[33mCREATED\u001b[39;49;00m\u001b[33m\"\u001b[39;49;00m,\u001b[37m\u001b[39;49;00m\n",
      ")\u001b[37m\u001b[39;49;00m\n",
      "\u001b[37m\u001b[39;49;00m\n",
      "services_fv = FeatureView(\u001b[37m\u001b[39;49;00m\n",
      "    name=\u001b[33m\"\u001b[39;49;00m\u001b[33mcust_services\u001b[39;49;00m\u001b[33m\"\u001b[39;49;00m,\u001b[37m\u001b[39;49;00m\n",
      "    entities=[customer],\u001b[37m\u001b[39;49;00m\n",
      "    ttl=timedelta(weeks=\u001b[34m52\u001b[39;49;00m * \u001b[34m10\u001b[39;49;00m),\u001b[37m\u001b[39;49;00m\n",
      "    schema=[\u001b[37m\u001b[39;49;00m\n",
      "        Field(name=\u001b[33m\"\u001b[39;49;00m\u001b[33mPHONESERVICE\u001b[39;49;00m\u001b[33m\"\u001b[39;49;00m, dtype=String),\u001b[37m\u001b[39;49;00m\n",
      "        Field(name=\u001b[33m\"\u001b[39;49;00m\u001b[33mMULTIPLELINES\u001b[39;49;00m\u001b[33m\"\u001b[39;49;00m, dtype=String),\u001b[37m\u001b[39;49;00m\n",
      "        Field(name=\u001b[33m\"\u001b[39;49;00m\u001b[33mINTERNETSERVICE\u001b[39;49;00m\u001b[33m\"\u001b[39;49;00m, dtype=String),\u001b[37m\u001b[39;49;00m\n",
      "        Field(name=\u001b[33m\"\u001b[39;49;00m\u001b[33mONLINESECURITY\u001b[39;49;00m\u001b[33m\"\u001b[39;49;00m, dtype=String),\u001b[37m\u001b[39;49;00m\n",
      "        Field(name=\u001b[33m\"\u001b[39;49;00m\u001b[33mONLINEBACKUP\u001b[39;49;00m\u001b[33m\"\u001b[39;49;00m, dtype=String),\u001b[37m\u001b[39;49;00m\n",
      "        Field(name=\u001b[33m\"\u001b[39;49;00m\u001b[33mDEVICEPROTECTION\u001b[39;49;00m\u001b[33m\"\u001b[39;49;00m, dtype=String),\u001b[37m\u001b[39;49;00m\n",
      "        Field(name=\u001b[33m\"\u001b[39;49;00m\u001b[33mTECHSUPPORT\u001b[39;49;00m\u001b[33m\"\u001b[39;49;00m, dtype=String),\u001b[37m\u001b[39;49;00m\n",
      "        Field(name=\u001b[33m\"\u001b[39;49;00m\u001b[33mSTREAMINGTV\u001b[39;49;00m\u001b[33m\"\u001b[39;49;00m, dtype=String),\u001b[37m\u001b[39;49;00m\n",
      "        Field(name=\u001b[33m\"\u001b[39;49;00m\u001b[33mSTREAMINGMOVIES\u001b[39;49;00m\u001b[33m\"\u001b[39;49;00m, dtype=String),\u001b[37m\u001b[39;49;00m\n",
      "        Field(name=\u001b[33m\"\u001b[39;49;00m\u001b[33mCONTRACT\u001b[39;49;00m\u001b[33m\"\u001b[39;49;00m, dtype=String),\u001b[37m\u001b[39;49;00m\n",
      "        Field(name=\u001b[33m\"\u001b[39;49;00m\u001b[33mPAPERLESSBILLING\u001b[39;49;00m\u001b[33m\"\u001b[39;49;00m, dtype=String),\u001b[37m\u001b[39;49;00m\n",
      "        Field(name=\u001b[33m\"\u001b[39;49;00m\u001b[33mPAYMENTMETHOD\u001b[39;49;00m\u001b[33m\"\u001b[39;49;00m, dtype=String),\u001b[37m\u001b[39;49;00m\n",
      "        Field(name=\u001b[33m\"\u001b[39;49;00m\u001b[33mMONTHLYCHARGES\u001b[39;49;00m\u001b[33m\"\u001b[39;49;00m, dtype=Float64),\u001b[37m\u001b[39;49;00m\n",
      "        Field(name=\u001b[33m\"\u001b[39;49;00m\u001b[33mTOTALCHARGES\u001b[39;49;00m\u001b[33m\"\u001b[39;49;00m, dtype=Float64),\u001b[37m\u001b[39;49;00m\n",
      "        Field(name=\u001b[33m\"\u001b[39;49;00m\u001b[33mTENUREMONTHS\u001b[39;49;00m\u001b[33m\"\u001b[39;49;00m, dtype=Float64),\u001b[37m\u001b[39;49;00m\n",
      "        Field(name=\u001b[33m\"\u001b[39;49;00m\u001b[33mCHURNVALUE\u001b[39;49;00m\u001b[33m\"\u001b[39;49;00m, dtype=Float64)\u001b[37m\u001b[39;49;00m\n",
      "    ],\u001b[37m\u001b[39;49;00m\n",
      "    source=cust_services_source,\u001b[37m\u001b[39;49;00m\n",
      "    tags={\u001b[33m\"\u001b[39;49;00m\u001b[33msource\u001b[39;49;00m\u001b[33m\"\u001b[39;49;00m: \u001b[33m\"\u001b[39;49;00m\u001b[33mcustomer_services\u001b[39;49;00m\u001b[33m\"\u001b[39;49;00m},\u001b[37m\u001b[39;49;00m\n",
      ")\u001b[37m\u001b[39;49;00m\n",
      "\u001b[37m\u001b[39;49;00m\n",
      "\u001b[37m\u001b[39;49;00m\n",
      "\u001b[37m# A feature service is an object that represents a logical group of features from one or more feature views. \u001b[39;49;00m\u001b[37m\u001b[39;49;00m\n",
      "\u001b[37m# Feature Services allows features from within a feature view to be used as needed by an ML model. \u001b[39;49;00m\u001b[37m\u001b[39;49;00m\n",
      "\u001b[37m# Users can expect to create one feature service per model version, allowing for tracking of the features used by models.\u001b[39;49;00m\u001b[37m\u001b[39;49;00m\n",
      "\u001b[37m\u001b[39;49;00m\n",
      "customer_fs = FeatureService(\u001b[37m\u001b[39;49;00m\n",
      "    name=\u001b[33m\"\u001b[39;49;00m\u001b[33mcustomer_info\u001b[39;49;00m\u001b[33m\"\u001b[39;49;00m,\u001b[37m\u001b[39;49;00m\n",
      "    features=[demographics_fv, services_fv]\u001b[37m\u001b[39;49;00m\n",
      ")\u001b[37m\u001b[39;49;00m\n"
     ]
    }
   ],
   "source": [
    "!pygmentize cust_repo.py"
   ]
  },
  {
   "cell_type": "markdown",
   "id": "fcc7d805",
   "metadata": {},
   "source": [
    "## Step3: Deploy Feature Store\n",
    "\n",
    "Open terminal and run following commands in the **terminal window** to setup feature repository. Deploy the feature store by running `apply` from within the `feature_repo/` folder\n",
    "<div class=\"alert alert-block alert-warning\">\n",
    "    \n",
    "1. CD to the **./customer_repo/feature_repo** folder\n",
    "2. Run the following command in the terminal window    \n",
    "```shell\n",
    "feast apply\n",
    "```\n",
    "    \n",
    "Once the feature store is successfully deployed, you should see following output in the command line:\n",
    "\n",
    "```shell\n",
    "\n",
    "Created entity customer\n",
    "\n",
    "Created feature view cust_services\n",
    "\n",
    "Created feature view cust_demographics\n",
    "\n",
    "Created feature service customer_info\n",
    "\n",
    "    \n",
    "Created entity customer\n",
    "Created feature view cust_services\n",
    "Created feature view cust_demographics\n",
    "Created feature service customer_info\n",
    "\n",
    "Deploying materialization functions for customer_repo\n",
    "\n",
    "Deploying infrastructure for cust_services\n",
    "Deploying infrastructure for cust_demographics\n",
    "```\n",
    "</div>\n",
    "\n",
    "Feast creates **registry.db** in .../customer_repo/feature_repo/ folder. This is the registry of all feature information stored by Feast for this feature store.\n"
   ]
  },
  {
   "cell_type": "markdown",
   "id": "b05c81ac",
   "metadata": {},
   "source": [
    "## Step4: Test the Offline Feature Store Deployment"
   ]
  },
  {
   "cell_type": "code",
   "execution_count": 11,
   "id": "00d3f9e3",
   "metadata": {},
   "outputs": [],
   "source": [
    "import pandas as pd\n",
    "from feast import FeatureStore\n",
    "from datetime import datetime"
   ]
  },
  {
   "cell_type": "code",
   "execution_count": 12,
   "id": "5b70cd55",
   "metadata": {},
   "outputs": [
    {
     "name": "stdout",
     "output_type": "stream",
     "text": [
      "             event_timestamp  CUSTOMERID\n",
      "0 2023-01-10 13:49:34.050855  7090-ZyCMx\n",
      "1 2023-01-10 13:49:34.050855  1364-wJXMS\n",
      "2 2023-01-10 13:49:34.050855  6564-sLgIC\n"
     ]
    }
   ],
   "source": [
    "# Initialize the entity dataframe for which the features are required to be extracted from the feature store\n",
    "\n",
    "custid = ['7090-ZyCMx', '1364-wJXMS', '6564-sLgIC']\n",
    "customers = pd.DataFrame(\n",
    "    {\n",
    "       \"event_timestamp\": datetime.now(),\n",
    "       \"CUSTOMERID\": custid,\n",
    "    }\n",
    ")\n",
    "\n",
    "print(customers)"
   ]
  },
  {
   "cell_type": "code",
   "execution_count": 13,
   "id": "f82b2096",
   "metadata": {},
   "outputs": [],
   "source": [
    "# Generate training dataset from Feast offline feature store\n",
    "\n",
    "fs = FeatureStore(repo_path=\".\")  # Initialize the feature store\n",
    "\n",
    "feature_service = fs.get_feature_service(\"customer_info\")\n",
    "fs.get_historical_features(features=feature_service, entity_df=customers).to_snowflake(table_name='historical_features')\n",
    "# get_historical_features utilises Snowflake compute to create offline features\n",
    "# to_snowflake() store the offline features in the table name specified in the argument\n",
    "# you may switch to SnowSight to view the table and offline feature records created through Feast\n",
    "# you may also check the push down processing in Activity > Query History"
   ]
  },
  {
   "cell_type": "code",
   "execution_count": 14,
   "id": "06f971b4",
   "metadata": {},
   "outputs": [
    {
     "name": "stdout",
     "output_type": "stream",
     "text": [
      "Materializing \u001b[1m\u001b[32m2\u001b[0m feature views to \u001b[1m\u001b[32m2023-01-10 13:49:51+11:00\u001b[0m into the \u001b[1m\u001b[32msnowflake.online\u001b[0m online store.\n",
      "\n",
      "\u001b[1m\u001b[32mcust_services\u001b[0m from \u001b[1m\u001b[32m2013-01-22 02:49:51+11:00\u001b[0m to \u001b[1m\u001b[32m2023-01-10 13:49:51+11:00\u001b[0m:\n",
      "Snowflake Query ID: \u001b[1m\u001b[32m01a98c09-3201-3e20-0000-1af50036758a\u001b[0m\n",
      "\u001b[1m\u001b[32mcust_demographics\u001b[0m from \u001b[1m\u001b[32m2013-01-22 02:50:15+11:00\u001b[0m to \u001b[1m\u001b[32m2023-01-11 00:49:51+11:00\u001b[0m:\n",
      "Snowflake Query ID: \u001b[1m\u001b[32m01a98c0a-3201-3e79-0000-1af50036860a\u001b[0m\n"
     ]
    },
    {
     "data": {
      "text/plain": [
       "{'CUSTOMERID': ['7090-ZyCMx', '1364-wJXMS', '6564-sLgIC'],\n",
       " 'PARTNER': [False, False, False],\n",
       " 'DEPENDENTS': [True, True, True],\n",
       " 'SENIORCITIZEN': [False, False, True],\n",
       " 'GENDER': ['Female', 'Female', 'Male'],\n",
       " 'PAPERLESSBILLING': ['true', 'true', 'true'],\n",
       " 'MULTIPLELINES': ['No', 'Yes', 'Yes'],\n",
       " 'PAYMENTMETHOD': ['Electronic check', 'Electronic check', 'Electronic check'],\n",
       " 'TECHSUPPORT': ['No', 'No', 'No'],\n",
       " 'MONTHLYCHARGES': [70.7, 99.65, 95.45],\n",
       " 'PHONESERVICE': ['Yes', 'Yes', 'Yes'],\n",
       " 'ONLINEBACKUP': ['No', 'No', 'No'],\n",
       " 'ONLINESECURITY': ['No', 'No', 'No'],\n",
       " 'DEVICEPROTECTION': ['No', 'Yes', 'No'],\n",
       " 'STREAMINGTV': ['No', 'Yes', 'Yes'],\n",
       " 'STREAMINGMOVIES': ['No', 'Yes', 'Yes'],\n",
       " 'TOTALCHARGES': [151.65, 820.5, 1752.55],\n",
       " 'TENUREMONTHS': [2.0, 8.0, 18.0],\n",
       " 'CHURNVALUE': [1.0, 1.0, 1.0],\n",
       " 'INTERNETSERVICE': ['Fiber optic', 'Fiber optic', 'Fiber optic'],\n",
       " 'CONTRACT': ['Month-to-month', 'Month-to-month', 'Month-to-month']}"
      ]
     },
     "execution_count": 14,
     "metadata": {},
     "output_type": "execute_result"
    }
   ],
   "source": [
    "# Generate scoring dataset from Feast online feature store\n",
    "\n",
    "fs.materialize_incremental(end_date=datetime.now())\n",
    "\n",
    "online_features = fs.get_online_features(\n",
    "    features=feature_service, entity_rows=[{\"CUSTOMERID\": '7090-ZyCMx'}, {\"CUSTOMERID\": '1364-wJXMS'}, {\"CUSTOMERID\": '6564-sLgIC'}],\n",
    ").to_dict()\n",
    "\n",
    "online_features\n",
    "\n",
    "# Note that the output dataset is in the format expected by models deployed as APIs for online inference"
   ]
  }
 ],
 "metadata": {
  "kernelspec": {
   "display_name": "Python 3 (ipykernel)",
   "language": "python",
   "name": "python3"
  },
  "language_info": {
   "codemirror_mode": {
    "name": "ipython",
    "version": 3
   },
   "file_extension": ".py",
   "mimetype": "text/x-python",
   "name": "python",
   "nbconvert_exporter": "python",
   "pygments_lexer": "ipython3",
   "version": "3.8.15"
  }
 },
 "nbformat": 4,
 "nbformat_minor": 5
}
